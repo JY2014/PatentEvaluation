{
 "cells": [
  {
   "cell_type": "code",
   "execution_count": 103,
   "metadata": {
    "collapsed": false
   },
   "outputs": [],
   "source": [
    "import numpy as np\n",
    "import pandas as pd\n",
    "import urllib\n",
    "import io\n",
    "from bs4 import BeautifulSoup\n",
    "from datetime import datetime"
   ]
  },
  {
   "cell_type": "code",
   "execution_count": 1,
   "metadata": {
    "collapsed": true
   },
   "outputs": [],
   "source": [
    "url = 'https://patents.google.com/patent/US7066879B2/en'"
   ]
  },
  {
   "cell_type": "code",
   "execution_count": 2,
   "metadata": {
    "collapsed": true
   },
   "outputs": [],
   "source": [
    "### function to read a html page\n",
    "# input: a url\n",
    "# output: BeautifulSoup output\n",
    "def generate_soup(url):\n",
    "    # read the page\n",
    "    page = urllib.urlopen(url).read()\n",
    "    soup = BeautifulSoup(page, \"lxml\")\n",
    "    \n",
    "    return soup"
   ]
  },
  {
   "cell_type": "code",
   "execution_count": 3,
   "metadata": {
    "collapsed": true
   },
   "outputs": [],
   "source": [
    "### function to read liscenced information for a patent\n",
    "# input: BeautifulSoup Output from Google Patent result page\n",
    "# output: number of times fee was paid\n",
    "def find_maintainance_years(soup):\n",
    "    # find legal events\n",
    "    legal_events = soup.find_all('tr', {'itemprop':'legalEvents'})\n",
    "    \n",
    "    # initiate status for no fee payments\n",
    "    fee_payments = 0\n",
    "    \n",
    "    # check how many fee payments there are\n",
    "    for event in legal_events:\n",
    "        # read each legal event\n",
    "        info = event.find('td', {'itemprop':'title'})\n",
    "        \n",
    "        for title in info:\n",
    "            # if licensed\n",
    "            if title.string == 'Fee payment':\n",
    "                # change the licensing status\n",
    "                fee_payments = fee_payments + 1\n",
    "                \n",
    "                break\n",
    "\n",
    "    return fee_payments"
   ]
  },
  {
   "cell_type": "code",
   "execution_count": 43,
   "metadata": {
    "collapsed": true
   },
   "outputs": [],
   "source": [
    "### function to read title of a patent\n",
    "# input: BeautifulSoup Output from Google Patent result page\n",
    "# output: title and patent number of the patent\n",
    "def find_patent_title(soup):\n",
    "    # read the title and split by '-'\n",
    "    title_content = soup.title.string.split(\"-\")\n",
    "    \n",
    "    # extract the body of the title\n",
    "    title = title_content[1]\n",
    "    # remove the space\n",
    "    title = title[1:len(title)-3]\n",
    "    # remove '\\n'\n",
    "    title = title.split(\"\\n\")[0]\n",
    "    \n",
    "    # read the patent number\n",
    "    patent_num = title_content[0]\n",
    "    # remove space\n",
    "    patent_num = patent_num[:len(patent_num)-1]\n",
    "    \n",
    "    return title, patent_num"
   ]
  },
  {
   "cell_type": "code",
   "execution_count": 5,
   "metadata": {
    "collapsed": true
   },
   "outputs": [],
   "source": [
    "### function to extract abstract of a patent\n",
    "# input: BeautifulSoup Output from Google Patent result page\n",
    "# output: abstract of the patent\n",
    "def find_patent_abstract(soup):\n",
    "    # find the head\n",
    "    head_content = soup.head\n",
    "    # read the abstract\n",
    "    abstract = head_content.find(\"meta\",  {\"name\":\"description\"})['content']\n",
    "\n",
    "    return abstract"
   ]
  },
  {
   "cell_type": "code",
   "execution_count": 6,
   "metadata": {
    "collapsed": true
   },
   "outputs": [],
   "source": [
    "### function to find top classification of a patent\n",
    "# input: BeautifulSoup Output from Google Patent result page\n",
    "# output: top classification of a patent (one letter)\n",
    "def find_patent_class(soup):\n",
    "    # find the top class\n",
    "    classification = soup.find_all(\"span\", {\"itemprop\" : \"Code\"})[1]\n",
    "    return classification.text"
   ]
  },
  {
   "cell_type": "code",
   "execution_count": 7,
   "metadata": {
    "collapsed": true
   },
   "outputs": [],
   "source": [
    "### function to find number of fine classifications of a patent\n",
    "# input: BeautifulSoup Output from Google Patent result page\n",
    "# output: number of final classifications (potential applications) of a patent\n",
    "def find_patent_applications(soup):\n",
    "    applications = soup.find_all(\"meta\", {\"itemprop\": \"Leaf\"})\n",
    "    return len(applications)"
   ]
  },
  {
   "cell_type": "code",
   "execution_count": 14,
   "metadata": {
    "collapsed": true
   },
   "outputs": [],
   "source": [
    "### function to find the original assignee of a patent\n",
    "def find_ori_assignee(soup):\n",
    "    univ = soup.find(\"dd\", {\"itemprop\": \"assigneeOriginal\"}).string\n",
    "\n",
    "    return univ"
   ]
  },
  {
   "cell_type": "code",
   "execution_count": 37,
   "metadata": {
    "collapsed": true
   },
   "outputs": [],
   "source": [
    "### function to find citations of a patent\n",
    "# input: BeautifulSoup Output from Google Patent result page\n",
    "# output: number of patent and non-patent citations\n",
    "def find_citation_nums(soup):\n",
    "    # initiate at zeros\n",
    "    patent_citations = 0\n",
    "    non_patent_citations = 0\n",
    "    \n",
    "    # the citation numbers are written in the section titles\n",
    "    sections = soup.find_all('h2')\n",
    "\n",
    "    for section in sections:\n",
    "        content = section.string\n",
    "\n",
    "        if content is not None:\n",
    "            # find the matching sections and read the number\n",
    "            words = content.split(\" \")\n",
    "            # for patent citations\n",
    "            if words[0] == 'Patent' and len(words) > 2:\n",
    "                patent_citations = int(words[2][1:len(words[2])-1])\n",
    "            # for non-patent citations\n",
    "            elif words[0] == 'Non-Patent' and len(words) > 2:\n",
    "                non_patent_citations = int(words[2][1:len(words[2])-1])\n",
    "\n",
    "    return patent_citations, non_patent_citations"
   ]
  },
  {
   "cell_type": "code",
   "execution_count": 125,
   "metadata": {
    "collapsed": true
   },
   "outputs": [],
   "source": [
    "### function to read the content of a patent\n",
    "# input: BeautifulSoup Output from Google Patent result page\n",
    "# output: background and summary text\n",
    "def read_patent_content(soup):\n",
    "    background = []\n",
    "    summary = []\n",
    "    \n",
    "    # find the corresponding sections\n",
    "    for header in text.find_all('heading'):\n",
    "        if header.get_text() == \"BACKGROUND OF THE INVENTION\":\n",
    "            # read the content\n",
    "            for elem in header.next_siblings:\n",
    "                if elem.name == 'heading':\n",
    "                    break\n",
    "                if elem.name == 'p':\n",
    "                    background.append(elem.get_text())\n",
    "\n",
    "        if header.get_text() == \"SUMMARY OF THE INVENTION\":\n",
    "            for elem in header.next_siblings:\n",
    "                if elem.name == 'heading':\n",
    "                    break\n",
    "                if elem.name == 'p':\n",
    "                    summary.append(elem.get_text())\n",
    "    \n",
    "    # join the paragraphs into a string\n",
    "    background = ' '.join(background)\n",
    "    summary = ' '.join(summary)\n",
    "    \n",
    "    return background, summary"
   ]
  },
  {
   "cell_type": "code",
   "execution_count": 154,
   "metadata": {
    "collapsed": true
   },
   "outputs": [],
   "source": [
    "### function to read the claims of a patent\n",
    "# input: BeautifulSoup Output from Google Patent result page\n",
    "# output: number of claims and claim text\n",
    "def read_patent_claims(soup):\n",
    "    claims = soup.find(\"section\", {'itemprop': 'claims'})\n",
    "    # number of claims\n",
    "    num_claims = len(claims)\n",
    "    \n",
    "    # read claim content\n",
    "    claim_content = []\n",
    "    # find the corresponding sections\n",
    "    contents = claims.find_all('div', {'class':'claim-text'})\n",
    "\n",
    "    for content in contents:\n",
    "        if content.string is not None:\n",
    "            claim_content.append(content.string)\n",
    "    # join the lines\n",
    "    claim_content = ' '.join(claim_content)\n",
    "    \n",
    "    return num_claims, claim_content    "
   ]
  },
  {
   "cell_type": "code",
   "execution_count": 97,
   "metadata": {
    "collapsed": true
   },
   "outputs": [],
   "source": [
    "### function to find the number of similar documents as a patent\n",
    "# the date of publication of the document should be before the patent submission date\n",
    "# input: BeautifulSoup Output from Google Patent result page\n",
    "# output: number of similar documents as the patent\n",
    "def count_similar_documents(soup):\n",
    "    # find the patent publication date\n",
    "    submission = soup.find(\"meta\", {\"name\" : \"DC.date\", \"scheme\" : \"dateSubmitted\"})\n",
    "    submission_date = submission['content']\n",
    "    # reformat the date\n",
    "    submission_date = datetime.strptime(submission_date , '%Y-%m-%d')\n",
    "    \n",
    "    # count similar documents published before the submission date\n",
    "    doc_num = 0\n",
    "    # read each document\n",
    "    similar_documents = soup.find_all(\"tr\", {\"itemprop\": \"similarDocuments\"})\n",
    "    # chech the publication date of each document\n",
    "    for document in similar_documents:\n",
    "        # read publication date\n",
    "        publication_date = document.find(\"time\", {\"itemprop\": \"publicationDate\"})\n",
    "        publication_date = publication_date.string\n",
    "        # reformat into date\n",
    "        publication_date = datetime.strptime(publication_date , '%Y-%m-%d')\n",
    "        \n",
    "        # count if the date is earlier than the submission date\n",
    "        if publication_date < submission_date:\n",
    "            doc_num += 1\n",
    "    \n",
    "    return doc_num"
   ]
  },
  {
   "cell_type": "code",
   "execution_count": 12,
   "metadata": {
    "collapsed": false
   },
   "outputs": [],
   "source": [
    "soup = generate_soup(url)"
   ]
  }
 ],
 "metadata": {
  "kernelspec": {
   "display_name": "Python 2",
   "language": "python",
   "name": "python2"
  },
  "language_info": {
   "codemirror_mode": {
    "name": "ipython",
    "version": 2
   },
   "file_extension": ".py",
   "mimetype": "text/x-python",
   "name": "python",
   "nbconvert_exporter": "python",
   "pygments_lexer": "ipython2",
   "version": "2.7.13"
  }
 },
 "nbformat": 4,
 "nbformat_minor": 2
}
