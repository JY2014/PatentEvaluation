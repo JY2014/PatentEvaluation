{
 "cells": [
  {
   "cell_type": "code",
   "execution_count": 36,
   "metadata": {
    "collapsed": false
   },
   "outputs": [],
   "source": [
    "import numpy as np\n",
    "import pandas as pd\n",
    "import patent_scraper as ps\n",
    "import time"
   ]
  },
  {
   "cell_type": "code",
   "execution_count": 43,
   "metadata": {
    "collapsed": true
   },
   "outputs": [],
   "source": [
    "# read the list of patents\n",
    "data = pd.read_csv('patent_200201_200205_univ.csv', skiprows = 1)"
   ]
  },
  {
   "cell_type": "code",
   "execution_count": 41,
   "metadata": {
    "collapsed": true
   },
   "outputs": [],
   "source": [
    "# initiate lists to store the results\n",
    "abstract_list = []\n",
    "patent_class_list = []\n",
    "num_applications_list = []\n",
    "patent_citations_list = []\n",
    "non_patent_citations_list = []\n",
    "background_list = []\n",
    "summary_list = []\n",
    "num_claims_list = []\n",
    "claim_content_list = []\n",
    "similar_doc_num_list = []\n",
    "payment_times_list = []"
   ]
  },
  {
   "cell_type": "code",
   "execution_count": 48,
   "metadata": {
    "collapsed": false
   },
   "outputs": [],
   "source": [
    "# scrape information for each patent\n",
    "for i in range(10):\n",
    "    # read patent result url\n",
    "    url = data['result link'][i]\n",
    "    # read the page\n",
    "    soup = generate_soup(url)\n",
    "    \n",
    "    # add number of maintenance payments\n",
    "    payment_times_list.append(ps.find_maintainance_years(soup))\n",
    "    # add abstract\n",
    "    abstract_list.append(ps.find_patent_abstract(soup))\n",
    "    # add top classification of the patent\n",
    "    patent_class_list.append(ps.find_patent_class(soup))\n",
    "    # number of fine applications\n",
    "    num_applications_list.append(ps.find_patent_applications(soup))\n",
    "    # number of citations\n",
    "    patent_citations, non_patent_citations = ps.find_citation_nums(soup)\n",
    "    patent_citations_list.append(patent_citations)\n",
    "    non_patent_citations_list.append(non_patent_citations)\n",
    "    # add background and summary description\n",
    "    background, summary = ps.read_patent_content(soup)\n",
    "    background_list.append(background)\n",
    "    summary_list.append(summary)\n",
    "    # add claims\n",
    "    num_claims, claim_content = ps.read_patent_claims(soup)\n",
    "    num_claims_list.append(num_claims)\n",
    "    claim_content_list.append(claim_content)\n",
    "    # add similar documents\n",
    "    similar_doc_num_list.append(ps.count_similar_documents(soup))\n",
    "    \n",
    "    time.sleep(0.5)"
   ]
  }
 ],
 "metadata": {
  "kernelspec": {
   "display_name": "Python 2",
   "language": "python",
   "name": "python2"
  },
  "language_info": {
   "codemirror_mode": {
    "name": "ipython",
    "version": 2
   },
   "file_extension": ".py",
   "mimetype": "text/x-python",
   "name": "python",
   "nbconvert_exporter": "python",
   "pygments_lexer": "ipython2",
   "version": "2.7.13"
  }
 },
 "nbformat": 4,
 "nbformat_minor": 2
}
