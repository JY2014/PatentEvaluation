{
 "cells": [
  {
   "cell_type": "code",
   "execution_count": 1,
   "metadata": {
    "collapsed": false
   },
   "outputs": [],
   "source": [
    "import numpy as np\n",
    "import pandas as pd\n",
    "import patent_scraper as ps\n",
    "import time\n",
    "from sqlalchemy import create_engine\n",
    "from sqlalchemy_utils import database_exists, create_database\n",
    "import psycopg2\n",
    "import pickle"
   ]
  },
  {
   "cell_type": "code",
   "execution_count": 26,
   "metadata": {
    "collapsed": false
   },
   "outputs": [],
   "source": [
    "# read the list of patents and combine into one dataframe\n",
    "patent_list = pd.DataFrame()\n",
    "\n",
    "# location and names of the files\n",
    "base_dir = \"patent_lists/patent_list_20040\"\n",
    "\n",
    "for i in np.arange(1, 11, 3): #downloaded by every 3 months\n",
    "    # read the list\n",
    "    if i < 10:\n",
    "        data = pd.read_csv(base_dir + str(i) + \".csv\", skiprows = 1)\n",
    "    else:\n",
    "        data = pd.read_csv(base_dir[:len(base_dir)-1] + str(i) + \".csv\", skiprows = 1)\n",
    "    # combine with previous lists\n",
    "    patent_list = pd.concat([patent_list, data], axis = 0)"
   ]
  },
  {
   "cell_type": "code",
   "execution_count": 27,
   "metadata": {
    "collapsed": false
   },
   "outputs": [
    {
     "data": {
      "text/plain": [
       "(2996, 9)"
      ]
     },
     "execution_count": 27,
     "metadata": {},
     "output_type": "execute_result"
    }
   ],
   "source": [
    "# check dimension of the list\n",
    "patent_list.shape"
   ]
  },
  {
   "cell_type": "code",
   "execution_count": 28,
   "metadata": {
    "collapsed": true
   },
   "outputs": [],
   "source": [
    "# initiate lists to store the results\n",
    "abstract_list = []\n",
    "patent_class_list = []\n",
    "num_applications_list = []\n",
    "patent_citations_list = []\n",
    "non_patent_citations_list = []\n",
    "description_list = []\n",
    "num_claims_list = []\n",
    "claim_content_list = []\n",
    "similar_doc_num_list = []\n",
    "payment_times_list = []"
   ]
  },
  {
   "cell_type": "code",
   "execution_count": 29,
   "metadata": {
    "collapsed": false
   },
   "outputs": [
    {
     "name": "stdout",
     "output_type": "stream",
     "text": [
      "0\n",
      "500\n",
      "1000\n",
      "1500\n",
      "2000\n",
      "2500\n"
     ]
    }
   ],
   "source": [
    "# scrape information for each patent\n",
    "for i in range(patent_list.shape[0]):\n",
    "    # track the progress\n",
    "    if i % 500 == 0:\n",
    "        print (i)\n",
    "    \n",
    "    # read patent result url\n",
    "    url = patent_list['result link'].values[i]\n",
    "    # read the page\n",
    "    soup = ps.generate_soup(url)\n",
    "    \n",
    "    # add number of maintenance payments\n",
    "    payment_times_list.append(ps.find_maintainance_years(soup))\n",
    "    # add abstract\n",
    "    abstract_list.append(ps.find_patent_abstract(soup))\n",
    "    # add top classification of the patent\n",
    "    patent_class_list.append(ps.find_patent_class(soup))\n",
    "    # number of fine applications\n",
    "    num_applications_list.append(ps.find_patent_applications(soup))\n",
    "    # number of citations\n",
    "    patent_citations, non_patent_citations = ps.find_citation_nums(soup)\n",
    "    patent_citations_list.append(patent_citations)\n",
    "    non_patent_citations_list.append(non_patent_citations)\n",
    "    # add background and summary description\n",
    "    description = ps.read_patent_content(soup)\n",
    "    description_list.append(description)\n",
    "    # add claims\n",
    "    num_claims, claim_content = ps.read_patent_claims(soup)\n",
    "    num_claims_list.append(num_claims)\n",
    "    claim_content_list.append(claim_content)\n",
    "    # add similar documents\n",
    "    similar_doc_num_list.append(ps.count_similar_documents(soup))\n",
    "    \n",
    "    time.sleep(0.1)"
   ]
  },
  {
   "cell_type": "code",
   "execution_count": 30,
   "metadata": {
    "collapsed": false
   },
   "outputs": [],
   "source": [
    "# add the information into the patent list\n",
    "patent_list[\"abstract\"] = abstract_list\n",
    "patent_list[\"classification\"] = patent_class_list\n",
    "patent_list[\"num_applications\"] = num_applications_list\n",
    "patent_list[\"num_patent_citations\"] = patent_citations_list\n",
    "patent_list[\"num_nonpatent_citations\"] = non_patent_citations_list\n",
    "patent_list[\"description\"] = description_list\n",
    "patent_list[\"num_claims\"] = num_claims_list\n",
    "patent_list[\"claims\"] = claim_content_list \n",
    "patent_list[\"num_similar_doc\"] = similar_doc_num_list\n",
    "patent_list[\"payment_times\"] = payment_times_list"
   ]
  },
  {
   "cell_type": "code",
   "execution_count": 31,
   "metadata": {
    "collapsed": false
   },
   "outputs": [],
   "source": [
    "## store the patent data\n",
    "## file is too big, and cannot be read into pandas again\n",
    "#patent_list.to_csv(\"patent_data/patents_2012.csv\", encoding='utf-8')\n",
    "\n",
    "# try pickle dump\n",
    "pickle.dump(patent_list, open(\"patent_data/patents_2004.p\", \"wb\"))"
   ]
  },
  {
   "cell_type": "code",
   "execution_count": 39,
   "metadata": {
    "collapsed": false
   },
   "outputs": [
    {
     "data": {
      "text/plain": [
       "(2996, 19)"
      ]
     },
     "execution_count": 39,
     "metadata": {},
     "output_type": "execute_result"
    }
   ],
   "source": [
    "# try pickle open it\n",
    "patent_list = pickle.load(open(\"patent_data/patents_2004.p\", \"rb\"))\n",
    "patent_list.shape"
   ]
  },
  {
   "cell_type": "code",
   "execution_count": 40,
   "metadata": {
    "collapsed": false
   },
   "outputs": [
    {
     "data": {
      "text/plain": [
       "(2996, 20)"
      ]
     },
     "execution_count": 40,
     "metadata": {},
     "output_type": "execute_result"
    }
   ],
   "source": [
    "# extract the number of inventors for each file\n",
    "num_authors = []\n",
    "\n",
    "for i in range(patent_list.shape[0]):\n",
    "    num = len(patent_list['inventor/author'].values[i].split(\",\"))\n",
    "    num_authors.append(num)\n",
    "    \n",
    "# add to the dataframe\n",
    "patent_list['num_authors'] = num_authors\n",
    "\n",
    "patent_list.shape"
   ]
  },
  {
   "cell_type": "code",
   "execution_count": 42,
   "metadata": {
    "collapsed": false
   },
   "outputs": [
    {
     "data": {
      "text/html": [
       "<div>\n",
       "<table border=\"1\" class=\"dataframe\">\n",
       "  <thead>\n",
       "    <tr style=\"text-align: right;\">\n",
       "      <th></th>\n",
       "      <th>id</th>\n",
       "      <th>title</th>\n",
       "      <th>assignee</th>\n",
       "      <th>inventor/author</th>\n",
       "      <th>priority date</th>\n",
       "      <th>filing/creation date</th>\n",
       "      <th>publication date</th>\n",
       "      <th>grant date</th>\n",
       "      <th>result link</th>\n",
       "      <th>abstract</th>\n",
       "      <th>classification</th>\n",
       "      <th>num_applications</th>\n",
       "      <th>num_patent_citations</th>\n",
       "      <th>num_nonpatent_citations</th>\n",
       "      <th>description</th>\n",
       "      <th>num_claims</th>\n",
       "      <th>claims</th>\n",
       "      <th>num_similar_doc</th>\n",
       "      <th>payment_times</th>\n",
       "      <th>num_authors</th>\n",
       "    </tr>\n",
       "  </thead>\n",
       "  <tbody>\n",
       "    <tr>\n",
       "      <th>0</th>\n",
       "      <td>US6699658B1</td>\n",
       "      <td>Yeast cell surface display of proteins and use...</td>\n",
       "      <td>Board Of Trustees Of The University Of Illinois</td>\n",
       "      <td>K. Dane Wittrup, David M. Kranz, Michele Kieke...</td>\n",
       "      <td>1996-05-31</td>\n",
       "      <td>1998-01-20</td>\n",
       "      <td>2004-03-02</td>\n",
       "      <td>2004-03-02</td>\n",
       "      <td>https://patents.google.com/patent/US6699658B1/en</td>\n",
       "      <td>\\n     The present invention provides a geneti...</td>\n",
       "      <td>C</td>\n",
       "      <td>5</td>\n",
       "      <td>28</td>\n",
       "      <td>34</td>\n",
       "      <td>This application is a continuation-in-part of ...</td>\n",
       "      <td>42</td>\n",
       "      <td>1. A method for selecting proteins for display...</td>\n",
       "      <td>1</td>\n",
       "      <td>3</td>\n",
       "      <td>4</td>\n",
       "    </tr>\n",
       "    <tr>\n",
       "      <th>1</th>\n",
       "      <td>US6699724B1</td>\n",
       "      <td>Metal nanoshells for biosensing applications</td>\n",
       "      <td>Wm. Marsh Rice University</td>\n",
       "      <td>Jennifer L. West, Nancy J. Halas, Steven J. Ol...</td>\n",
       "      <td>1998-03-11</td>\n",
       "      <td>2000-07-14</td>\n",
       "      <td>2004-03-02</td>\n",
       "      <td>2004-03-02</td>\n",
       "      <td>https://patents.google.com/patent/US6699724B1/en</td>\n",
       "      <td>\\n     The present invention provides nanoshel...</td>\n",
       "      <td>G</td>\n",
       "      <td>32</td>\n",
       "      <td>47</td>\n",
       "      <td>44</td>\n",
       "      <td>This application is a continuation-in-part of ...</td>\n",
       "      <td>25</td>\n",
       "      <td>1. A chemical sensing device comprising a plur...</td>\n",
       "      <td>0</td>\n",
       "      <td>3</td>\n",
       "      <td>4</td>\n",
       "    </tr>\n",
       "    <tr>\n",
       "      <th>2</th>\n",
       "      <td>US6690816B2</td>\n",
       "      <td>Systems and methods for tubular object process...</td>\n",
       "      <td>The University Of North Carolina At Chapel Hill</td>\n",
       "      <td>Stephen R. Aylward, Elizabeth Bullitt, Stephen...</td>\n",
       "      <td>2000-04-07</td>\n",
       "      <td>2001-04-09</td>\n",
       "      <td>2004-02-10</td>\n",
       "      <td>2004-02-10</td>\n",
       "      <td>https://patents.google.com/patent/US6690816B2/en</td>\n",
       "      <td>\\n     Systems and methods are disclosed for p...</td>\n",
       "      <td>G</td>\n",
       "      <td>8</td>\n",
       "      <td>9</td>\n",
       "      <td>0</td>\n",
       "      <td>The present invention is directed generally to...</td>\n",
       "      <td>32</td>\n",
       "      <td>1. A method for processing at least one tubula...</td>\n",
       "      <td>1</td>\n",
       "      <td>1</td>\n",
       "      <td>4</td>\n",
       "    </tr>\n",
       "    <tr>\n",
       "      <th>3</th>\n",
       "      <td>US6711436B1</td>\n",
       "      <td>Compositions, apparatus and methods for facili...</td>\n",
       "      <td>Duke University</td>\n",
       "      <td>Francis G. Duhaylongsod</td>\n",
       "      <td>1997-08-08</td>\n",
       "      <td>1999-09-27</td>\n",
       "      <td>2004-03-23</td>\n",
       "      <td>2004-03-23</td>\n",
       "      <td>https://patents.google.com/patent/US6711436B1/en</td>\n",
       "      <td>\\n     Methods are provided for conducting dia...</td>\n",
       "      <td>A</td>\n",
       "      <td>4</td>\n",
       "      <td>105</td>\n",
       "      <td>109</td>\n",
       "      <td>This application is a continuation-in-part of ...</td>\n",
       "      <td>45</td>\n",
       "      <td>1. A method of performing an aortic aneurysm r...</td>\n",
       "      <td>7</td>\n",
       "      <td>3</td>\n",
       "      <td>1</td>\n",
       "    </tr>\n",
       "    <tr>\n",
       "      <th>4</th>\n",
       "      <td>US6711432B1</td>\n",
       "      <td>Computer-aided orthopedic surgery</td>\n",
       "      <td>Carnegie Mellon University</td>\n",
       "      <td>Norman M. Krause, Lee E. Weiss, Kenji Shimada,...</td>\n",
       "      <td>2000-10-23</td>\n",
       "      <td>2000-10-23</td>\n",
       "      <td>2004-03-23</td>\n",
       "      <td>2004-03-23</td>\n",
       "      <td>https://patents.google.com/patent/US6711432B1/en</td>\n",
       "      <td>\\n     Devices and methods for implementing co...</td>\n",
       "      <td>A</td>\n",
       "      <td>7</td>\n",
       "      <td>15</td>\n",
       "      <td>114</td>\n",
       "      <td>The present invention generally relates to dev...</td>\n",
       "      <td>44</td>\n",
       "      <td>1. A method of generating an updated surgical ...</td>\n",
       "      <td>3</td>\n",
       "      <td>3</td>\n",
       "      <td>4</td>\n",
       "    </tr>\n",
       "  </tbody>\n",
       "</table>\n",
       "</div>"
      ],
      "text/plain": [
       "            id                                              title  \\\n",
       "0  US6699658B1  Yeast cell surface display of proteins and use...   \n",
       "1  US6699724B1      Metal nanoshells for biosensing applications    \n",
       "2  US6690816B2  Systems and methods for tubular object process...   \n",
       "3  US6711436B1  Compositions, apparatus and methods for facili...   \n",
       "4  US6711432B1                 Computer-aided orthopedic surgery    \n",
       "\n",
       "                                          assignee  \\\n",
       "0  Board Of Trustees Of The University Of Illinois   \n",
       "1                        Wm. Marsh Rice University   \n",
       "2  The University Of North Carolina At Chapel Hill   \n",
       "3                                  Duke University   \n",
       "4                       Carnegie Mellon University   \n",
       "\n",
       "                                     inventor/author priority date  \\\n",
       "0  K. Dane Wittrup, David M. Kranz, Michele Kieke...    1996-05-31   \n",
       "1  Jennifer L. West, Nancy J. Halas, Steven J. Ol...    1998-03-11   \n",
       "2  Stephen R. Aylward, Elizabeth Bullitt, Stephen...    2000-04-07   \n",
       "3                            Francis G. Duhaylongsod    1997-08-08   \n",
       "4  Norman M. Krause, Lee E. Weiss, Kenji Shimada,...    2000-10-23   \n",
       "\n",
       "  filing/creation date publication date  grant date  \\\n",
       "0           1998-01-20       2004-03-02  2004-03-02   \n",
       "1           2000-07-14       2004-03-02  2004-03-02   \n",
       "2           2001-04-09       2004-02-10  2004-02-10   \n",
       "3           1999-09-27       2004-03-23  2004-03-23   \n",
       "4           2000-10-23       2004-03-23  2004-03-23   \n",
       "\n",
       "                                        result link  \\\n",
       "0  https://patents.google.com/patent/US6699658B1/en   \n",
       "1  https://patents.google.com/patent/US6699724B1/en   \n",
       "2  https://patents.google.com/patent/US6690816B2/en   \n",
       "3  https://patents.google.com/patent/US6711436B1/en   \n",
       "4  https://patents.google.com/patent/US6711432B1/en   \n",
       "\n",
       "                                            abstract classification  \\\n",
       "0  \\n     The present invention provides a geneti...              C   \n",
       "1  \\n     The present invention provides nanoshel...              G   \n",
       "2  \\n     Systems and methods are disclosed for p...              G   \n",
       "3  \\n     Methods are provided for conducting dia...              A   \n",
       "4  \\n     Devices and methods for implementing co...              A   \n",
       "\n",
       "   num_applications  num_patent_citations  num_nonpatent_citations  \\\n",
       "0                 5                    28                       34   \n",
       "1                32                    47                       44   \n",
       "2                 8                     9                        0   \n",
       "3                 4                   105                      109   \n",
       "4                 7                    15                      114   \n",
       "\n",
       "                                         description  num_claims  \\\n",
       "0  This application is a continuation-in-part of ...          42   \n",
       "1  This application is a continuation-in-part of ...          25   \n",
       "2  The present invention is directed generally to...          32   \n",
       "3  This application is a continuation-in-part of ...          45   \n",
       "4  The present invention generally relates to dev...          44   \n",
       "\n",
       "                                              claims  num_similar_doc  \\\n",
       "0  1. A method for selecting proteins for display...                1   \n",
       "1  1. A chemical sensing device comprising a plur...                0   \n",
       "2  1. A method for processing at least one tubula...                1   \n",
       "3  1. A method of performing an aortic aneurysm r...                7   \n",
       "4  1. A method of generating an updated surgical ...                3   \n",
       "\n",
       "   payment_times  num_authors  \n",
       "0              3            4  \n",
       "1              3            4  \n",
       "2              1            4  \n",
       "3              3            1  \n",
       "4              3            4  "
      ]
     },
     "execution_count": 42,
     "metadata": {},
     "output_type": "execute_result"
    }
   ],
   "source": [
    "patent_list.head()"
   ]
  },
  {
   "cell_type": "code",
   "execution_count": 4,
   "metadata": {
    "collapsed": true
   },
   "outputs": [],
   "source": [
    "# access to sql database\n",
    "dbname = 'patent_db'\n",
    "username = 'jy'\n",
    "pswd = 'jy'\n",
    "\n",
    "engine = create_engine('postgresql://%s:%s@localhost/%s'%(username,pswd,dbname))"
   ]
  },
  {
   "cell_type": "code",
   "execution_count": 36,
   "metadata": {
    "collapsed": false
   },
   "outputs": [],
   "source": [
    "# store patent data into the database\n",
    "#patent_list.to_sql('patents_2006', engine, if_exists='replace')\n",
    "patent_list.to_sql('patents_2004', engine)"
   ]
  },
  {
   "cell_type": "code",
   "execution_count": null,
   "metadata": {
    "collapsed": false
   },
   "outputs": [],
   "source": [
    "# 2004 data has one corrupted row at 518 (error when imported to SQL)\n",
    "# remove it\n",
    "patent_list_drop = pd.concat([patent_list[0:518], patent_list[519:]], axis = 0)\n",
    "patent_list_drop.shape\n",
    "\n",
    "patent_list_drop.to_sql('patents_2004', engine, if_exists='replace')"
   ]
  },
  {
   "cell_type": "code",
   "execution_count": 20,
   "metadata": {
    "collapsed": false
   },
   "outputs": [
    {
     "data": {
      "text/html": [
       "<div>\n",
       "<table border=\"1\" class=\"dataframe\">\n",
       "  <thead>\n",
       "    <tr style=\"text-align: right;\">\n",
       "      <th></th>\n",
       "      <th>index</th>\n",
       "      <th>id</th>\n",
       "      <th>title</th>\n",
       "      <th>assignee</th>\n",
       "      <th>inventor/author</th>\n",
       "      <th>priority date</th>\n",
       "      <th>filing/creation date</th>\n",
       "      <th>publication date</th>\n",
       "      <th>grant date</th>\n",
       "      <th>result link</th>\n",
       "      <th>...</th>\n",
       "      <th>classification</th>\n",
       "      <th>num_applications</th>\n",
       "      <th>num_patent_citations</th>\n",
       "      <th>num_nonpatent_citations</th>\n",
       "      <th>description</th>\n",
       "      <th>num_claims</th>\n",
       "      <th>claims</th>\n",
       "      <th>num_similar_doc</th>\n",
       "      <th>payment_times</th>\n",
       "      <th>num_authors</th>\n",
       "    </tr>\n",
       "  </thead>\n",
       "  <tbody>\n",
       "  </tbody>\n",
       "</table>\n",
       "<p>0 rows × 21 columns</p>\n",
       "</div>"
      ],
      "text/plain": [
       "Empty DataFrame\n",
       "Columns: [index, id, title, assignee, inventor/author, priority date, filing/creation date, publication date, grant date, result link, abstract, classification, num_applications, num_patent_citations, num_nonpatent_citations, description, num_claims, claims, num_similar_doc, payment_times, num_authors]\n",
       "Index: []\n",
       "\n",
       "[0 rows x 21 columns]"
      ]
     },
     "execution_count": 20,
     "metadata": {},
     "output_type": "execute_result"
    }
   ],
   "source": [
    "# try reading from sql database\n",
    "# connect:\n",
    "con = None\n",
    "con = psycopg2.connect(database = dbname, user = username, host='localhost', password=pswd)\n",
    "\n",
    "# query:\n",
    "sql_query = \"\"\"\n",
    "SELECT COUNT(payment_times) FROM patents_2004 WHERE payment_times < 2;\n",
    "\"\"\"\n",
    "patent_data_from_sql = pd.read_sql_query(sql_query,con)\n",
    "\n",
    "patent_data_from_sql"
   ]
  }
 ],
 "metadata": {
  "kernelspec": {
   "display_name": "Python 2",
   "language": "python",
   "name": "python2"
  },
  "language_info": {
   "codemirror_mode": {
    "name": "ipython",
    "version": 2
   },
   "file_extension": ".py",
   "mimetype": "text/x-python",
   "name": "python",
   "nbconvert_exporter": "python",
   "pygments_lexer": "ipython2",
   "version": "2.7.13"
  }
 },
 "nbformat": 4,
 "nbformat_minor": 2
}
