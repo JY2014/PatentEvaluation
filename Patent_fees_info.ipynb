{
 "cells": [
  {
   "cell_type": "code",
   "execution_count": 64,
   "metadata": {
    "collapsed": true
   },
   "outputs": [],
   "source": [
    "import numpy as np\n",
    "import pandas as pd\n",
    "import urllib\n",
    "from bs4 import BeautifulSoup\n",
    "import time\n",
    "import seaborn as sns\n",
    "%matplotlib inline"
   ]
  },
  {
   "cell_type": "code",
   "execution_count": 83,
   "metadata": {
    "collapsed": false
   },
   "outputs": [],
   "source": [
    "# read the list of patents\n",
    "data = pd.read_csv('patent_200201_200205_univ.csv', skiprows = 1)"
   ]
  },
  {
   "cell_type": "code",
   "execution_count": 84,
   "metadata": {
    "collapsed": false
   },
   "outputs": [
    {
     "data": {
      "text/html": [
       "<div>\n",
       "<table border=\"1\" class=\"dataframe\">\n",
       "  <thead>\n",
       "    <tr style=\"text-align: right;\">\n",
       "      <th></th>\n",
       "      <th>id</th>\n",
       "      <th>title</th>\n",
       "      <th>assignee</th>\n",
       "      <th>inventor/author</th>\n",
       "      <th>priority date</th>\n",
       "      <th>filing/creation date</th>\n",
       "      <th>publication date</th>\n",
       "      <th>grant date</th>\n",
       "      <th>result link</th>\n",
       "    </tr>\n",
       "  </thead>\n",
       "  <tbody>\n",
       "    <tr>\n",
       "      <th>0</th>\n",
       "      <td>US6384191B1</td>\n",
       "      <td>Receptors for fibroblast growth factors</td>\n",
       "      <td>Regents Of The University Of California</td>\n",
       "      <td>Lewis T. Williams, Daniel E. Johnson, Pauline ...</td>\n",
       "      <td>1989-07-06</td>\n",
       "      <td>1990-07-06</td>\n",
       "      <td>2002-05-07</td>\n",
       "      <td>2002-05-07</td>\n",
       "      <td>https://patents.google.com/patent/US6384191B1/en</td>\n",
       "    </tr>\n",
       "    <tr>\n",
       "      <th>1</th>\n",
       "      <td>US6391590B1</td>\n",
       "      <td>Recombinant streptavidin-metallothionein chime...</td>\n",
       "      <td>The Regents Of The University Of California</td>\n",
       "      <td>Takeshi Sano, Alexander N. Glazer, Charles R. ...</td>\n",
       "      <td>1991-10-21</td>\n",
       "      <td>1991-10-21</td>\n",
       "      <td>2002-05-21</td>\n",
       "      <td>2002-05-21</td>\n",
       "      <td>https://patents.google.com/patent/US6391590B1/en</td>\n",
       "    </tr>\n",
       "    <tr>\n",
       "      <th>2</th>\n",
       "      <td>US6362160B1</td>\n",
       "      <td>Immunophilin-binding agents prevent glutamate ...</td>\n",
       "      <td>The Johns Hopkins University School Of Medicine</td>\n",
       "      <td>Ted M. Dawson, Joseph P. Steiner, Valina L. Da...</td>\n",
       "      <td>1993-06-30</td>\n",
       "      <td>1993-06-30</td>\n",
       "      <td>2002-03-26</td>\n",
       "      <td>2002-03-26</td>\n",
       "      <td>https://patents.google.com/patent/US6362160B1/en</td>\n",
       "    </tr>\n",
       "    <tr>\n",
       "      <th>3</th>\n",
       "      <td>US6362175B1</td>\n",
       "      <td>Porphyrin compounds for imaging tissue oxygen</td>\n",
       "      <td>The Trustees Of The University Of Pennsylvania</td>\n",
       "      <td>Sergei Vinogradov, David F. Wilson</td>\n",
       "      <td>1991-09-20</td>\n",
       "      <td>1993-10-15</td>\n",
       "      <td>2002-03-26</td>\n",
       "      <td>2002-03-26</td>\n",
       "      <td>https://patents.google.com/patent/US6362175B1/en</td>\n",
       "    </tr>\n",
       "    <tr>\n",
       "      <th>4</th>\n",
       "      <td>US6387379B1</td>\n",
       "      <td>Biofunctional surface modified ocular implants...</td>\n",
       "      <td>University Of Florida</td>\n",
       "      <td>Eugene P. Goldberg, Ali Yahiaoui, Khalid Menta...</td>\n",
       "      <td>1987-04-10</td>\n",
       "      <td>1994-02-28</td>\n",
       "      <td>2002-05-14</td>\n",
       "      <td>2002-05-14</td>\n",
       "      <td>https://patents.google.com/patent/US6387379B1/en</td>\n",
       "    </tr>\n",
       "  </tbody>\n",
       "</table>\n",
       "</div>"
      ],
      "text/plain": [
       "            id                                              title  \\\n",
       "0  US6384191B1           Receptors for fibroblast growth factors    \n",
       "1  US6391590B1  Recombinant streptavidin-metallothionein chime...   \n",
       "2  US6362160B1  Immunophilin-binding agents prevent glutamate ...   \n",
       "3  US6362175B1     Porphyrin compounds for imaging tissue oxygen    \n",
       "4  US6387379B1  Biofunctional surface modified ocular implants...   \n",
       "\n",
       "                                          assignee  \\\n",
       "0          Regents Of The University Of California   \n",
       "1      The Regents Of The University Of California   \n",
       "2  The Johns Hopkins University School Of Medicine   \n",
       "3   The Trustees Of The University Of Pennsylvania   \n",
       "4                            University Of Florida   \n",
       "\n",
       "                                     inventor/author priority date  \\\n",
       "0  Lewis T. Williams, Daniel E. Johnson, Pauline ...    1989-07-06   \n",
       "1  Takeshi Sano, Alexander N. Glazer, Charles R. ...    1991-10-21   \n",
       "2  Ted M. Dawson, Joseph P. Steiner, Valina L. Da...    1993-06-30   \n",
       "3                 Sergei Vinogradov, David F. Wilson    1991-09-20   \n",
       "4  Eugene P. Goldberg, Ali Yahiaoui, Khalid Menta...    1987-04-10   \n",
       "\n",
       "  filing/creation date publication date  grant date  \\\n",
       "0           1990-07-06       2002-05-07  2002-05-07   \n",
       "1           1991-10-21       2002-05-21  2002-05-21   \n",
       "2           1993-06-30       2002-03-26  2002-03-26   \n",
       "3           1993-10-15       2002-03-26  2002-03-26   \n",
       "4           1994-02-28       2002-05-14  2002-05-14   \n",
       "\n",
       "                                        result link  \n",
       "0  https://patents.google.com/patent/US6384191B1/en  \n",
       "1  https://patents.google.com/patent/US6391590B1/en  \n",
       "2  https://patents.google.com/patent/US6362160B1/en  \n",
       "3  https://patents.google.com/patent/US6362175B1/en  \n",
       "4  https://patents.google.com/patent/US6387379B1/en  "
      ]
     },
     "execution_count": 84,
     "metadata": {},
     "output_type": "execute_result"
    }
   ],
   "source": [
    "data.head()"
   ]
  },
  {
   "cell_type": "code",
   "execution_count": 50,
   "metadata": {
    "collapsed": true
   },
   "outputs": [],
   "source": [
    "### function to scrape a html page\n",
    "# input: a url\n",
    "# output: BeautifulSoup output\n",
    "def generate_soup(url):\n",
    "    # read the page\n",
    "    page = urllib.urlopen(url).read()\n",
    "    soup = BeautifulSoup(page, \"lxml\")\n",
    "    \n",
    "    return soup"
   ]
  },
  {
   "cell_type": "code",
   "execution_count": 49,
   "metadata": {
    "collapsed": true
   },
   "outputs": [],
   "source": [
    "### function to read liscenced information for a patent\n",
    "# input: BeautifulSoup Output\n",
    "# output: number of times maintainance fee was paid\n",
    "def find_maintainance_years(soup):\n",
    "    # find legal events\n",
    "    legal_events = soup.find_all('tr', {'itemprop':'legalEvents'})\n",
    "    \n",
    "    # initiate status for no fee payments\n",
    "    fee_payments = 0\n",
    "    \n",
    "    # check how many fee payments there are\n",
    "    for event in legal_events:\n",
    "        # read each legal event\n",
    "        info = event.find('td', {'itemprop':'title'})\n",
    "        \n",
    "        for title in info:\n",
    "            # if licensed\n",
    "            if title.string == 'Fee payment':\n",
    "                # change the licensing status\n",
    "                fee_payments = fee_payments + 1\n",
    "                \n",
    "                break\n",
    "\n",
    "    return fee_payments"
   ]
  },
  {
   "cell_type": "code",
   "execution_count": 85,
   "metadata": {
    "collapsed": false
   },
   "outputs": [
    {
     "name": "stdout",
     "output_type": "stream",
     "text": [
      "0\n",
      "50\n",
      "100\n",
      "150\n",
      "200\n",
      "250\n",
      "300\n",
      "350\n",
      "400\n",
      "450\n",
      "500\n",
      "550\n",
      "600\n",
      "650\n",
      "700\n",
      "750\n",
      "800\n",
      "850\n",
      "900\n",
      "950\n"
     ]
    }
   ],
   "source": [
    "# extract fee payment info for all of the patents\n",
    "fee_payment_times = [] #store for all the patents\n",
    "\n",
    "for i in range(data.shape[0]):\n",
    "    if i % 50 == 0:\n",
    "        print i\n",
    "    \n",
    "    url = data['result link'][i]\n",
    "    soup = generate_soup(url)\n",
    "    \n",
    "    times = find_maintainance_years(soup)\n",
    "    fee_payment_times.append(times)\n",
    "    \n",
    "    time.sleep(0.2)"
   ]
  },
  {
   "cell_type": "code",
   "execution_count": 86,
   "metadata": {
    "collapsed": true
   },
   "outputs": [],
   "source": [
    "# add to the dataset and save\n",
    "data['payment_times'] = fee_payment_times"
   ]
  },
  {
   "cell_type": "code",
   "execution_count": 79,
   "metadata": {
    "collapsed": false
   },
   "outputs": [
    {
     "data": {
      "text/plain": [
       "<matplotlib.axes._subplots.AxesSubplot at 0x7f48a75f0750>"
      ]
     },
     "execution_count": 79,
     "metadata": {},
     "output_type": "execute_result"
    },
    {
     "data": {
      "image/png": "[encoded data removed]",
      "text/plain": [
       "<matplotlib.figure.Figure at 0x7f48c0740510>"
      ]
     },
     "metadata": {},
     "output_type": "display_data"
    }
   ],
   "source": [
    "sns.distplot(data['payment_times'], kde=False, rug=True)"
   ]
  },
  {
   "cell_type": "code",
   "execution_count": 81,
   "metadata": {
    "collapsed": false
   },
   "outputs": [
    {
     "data": {
      "text/plain": [
       "0.40000000000000002"
      ]
     },
     "execution_count": 81,
     "metadata": {},
     "output_type": "execute_result"
    }
   ],
   "source": [
    "fee_payment_times = np.asarray(fee_payment_times)\n",
    "np.mean(fee_payment_times < 2)"
   ]
  },
  {
   "cell_type": "code",
   "execution_count": 82,
   "metadata": {
    "collapsed": true
   },
   "outputs": [],
   "source": [
    "data.to_csv('patent_200201_univ_payments.csv', index = False)"
   ]
  },
  {
   "cell_type": "code",
   "execution_count": null,
   "metadata": {
    "collapsed": true
   },
   "outputs": [],
   "source": [
    "print "
   ]
  },
  {
   "cell_type": "code",
   "execution_count": null,
   "metadata": {
    "collapsed": true
   },
   "outputs": [],
   "source": [
    "# add licensed time"
   ]
  },
  {
   "cell_type": "code",
   "execution_count": null,
   "metadata": {
    "collapsed": true
   },
   "outputs": [],
   "source": [
    "# produce some graphs"
   ]
  }
 ],
 "metadata": {
  "kernelspec": {
   "display_name": "Python 2",
   "language": "python",
   "name": "python2"
  },
  "language_info": {
   "codemirror_mode": {
    "name": "ipython",
    "version": 2
   },
   "file_extension": ".py",
   "mimetype": "text/x-python",
   "name": "python",
   "nbconvert_exporter": "python",
   "pygments_lexer": "ipython2",
   "version": "2.7.13"
  }
 },
 "nbformat": 4,
 "nbformat_minor": 2
}
